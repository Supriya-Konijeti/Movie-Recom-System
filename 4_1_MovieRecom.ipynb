{
  "nbformat": 4,
  "nbformat_minor": 0,
  "metadata": {
    "colab": {
      "name": "4.1-MovieRecom.ipynb",
      "provenance": [],
      "collapsed_sections": [],
      "authorship_tag": "ABX9TyPoc0rFteWbYXQG/coaPKor",
      "include_colab_link": true
    },
    "kernelspec": {
      "name": "python3",
      "display_name": "Python 3"
    },
    "language_info": {
      "name": "python"
    }
  },
  "cells": [
    {
      "cell_type": "markdown",
      "metadata": {
        "id": "view-in-github",
        "colab_type": "text"
      },
      "source": [
        "<a href=\"https://colab.research.google.com/github/Supriya-Konijeti/Movie-Recom-System/blob/master/4_1_MovieRecom.ipynb\" target=\"_parent\"><img src=\"https://colab.research.google.com/assets/colab-badge.svg\" alt=\"Open In Colab\"/></a>"
      ]
    },
    {
      "cell_type": "code",
      "execution_count": 5,
      "metadata": {
        "colab": {
          "base_uri": "https://localhost:8080/"
        },
        "id": "CRjw4gCqNR6p",
        "outputId": "1cfdc09b-7d93-46af-ae60-9b8a8b16d286"
      },
      "outputs": [
        {
          "output_type": "stream",
          "name": "stdout",
          "text": [
            "        user_id  movie_id  rating       time\n",
            "0             1      1193       5  978300760\n",
            "1             1       661       3  978302109\n",
            "2             1       914       3  978301968\n",
            "3             1      3408       4  978300275\n",
            "4             1      2355       5  978824291\n",
            "...         ...       ...     ...        ...\n",
            "769082     4579      3334       4  969752076\n",
            "769083     4579      2394       4  969751000\n",
            "769084     4579      2396       5  969750724\n",
            "769085     4579      2398       5  969752108\n",
            "769086     4579      3341       3  970625322\n",
            "\n",
            "[769087 rows x 4 columns]\n",
            "[[  5 199  63 ... 112   4   5]\n",
            " [ 33  23 127 ...   2  23 127]\n",
            " [  0   0 176 ...   0   0 112]\n",
            " ...\n",
            " [  0 176 237 ...   0 112 154]\n",
            " [133  20  23 ... 134  20  23]\n",
            " [127   0   0 ... 127   0   0]]\n",
            "[[-42.85411662 151.14588338  15.14588338 ...  64.14588338 -43.85411662\n",
            "  -42.85411662]\n",
            " [-32.37759336 -42.37759336  61.62240664 ... -63.37759336 -42.37759336\n",
            "   61.62240664]\n",
            " [-63.0541603  -63.0541603  112.9458397  ... -63.0541603  -63.0541603\n",
            "   48.9458397 ]\n",
            " ...\n",
            " [-73.83664556 102.16335444 163.16335444 ... -73.83664556  38.16335444\n",
            "   80.16335444]\n",
            " [ 58.70648613 -54.29351387 -51.29351387 ...  59.70648613 -54.29351387\n",
            "  -51.29351387]\n",
            " [ 53.36994977 -73.63005023 -73.63005023 ...  53.36994977 -73.63005023\n",
            "  -73.63005023]]\n",
            "Recommendations for Movie Waiting to Exhale (1995): \n",
            "\n",
            "Waiting to Exhale (1995)\n",
            "Conquest of the Planet of the Apes (1972)\n",
            "Stop! Or My Mom Will Shoot (1992)\n",
            "Match, The (1999)\n",
            "Boys Life (1995)\n",
            "Man Who Knew Too Much, The (1934)\n",
            "Outbreak (1995)\n",
            "Jumpin' Jack Flash (1986)\n",
            "Traveller (1997)\n",
            "King of Marvin Gardens, The (1972)\n"
          ]
        }
      ],
      "source": [
        "import numpy as np\n",
        "import pandas as pd\n",
        "\n",
        "ratingData = pd.io.parsers.read_csv('ratings.dat', \n",
        "    names=['user_id', 'movie_id', 'rating', 'time'],\n",
        "    engine='python', delimiter='::')\n",
        "movieData = pd.io.parsers.read_csv('movies.dat',\n",
        "    names=['movie_id', 'title', 'genre'],\n",
        "    engine='python', delimiter='::',encoding='latin-1')\n",
        "print(ratingData)\n",
        "\n",
        "\n",
        "ratingMatrix = np.ndarray(\n",
        "    shape=(np.max(ratingData.movie_id.values), np.max(ratingData.user_id.values)),\n",
        "    dtype=np.uint8)\n",
        "ratingMatrix[ratingData.movie_id.values-1, ratingData.user_id.values-1] = ratingData.rating.values\n",
        "print(ratingMatrix)\n",
        "\n",
        "\n",
        "normalizedMatrix = ratingMatrix - np.asarray([(np.mean(ratingMatrix, 1))]).T\n",
        "print(normalizedMatrix)\n",
        "A = normalizedMatrix.T / np.sqrt(ratingMatrix.shape[0] - 1)\n",
        "#A = ratingMatrix.T / np.sqrt(ratingMatrix.shape[0] - 1)\n",
        "U, S, V = np.linalg.svd(A)\n",
        "\n",
        "\n",
        "# A = ratingMatrix.T / np.sqrt(ratingMatrix.shape[0] - 1)\n",
        "# U, S, V = np.linalg.svd(A)\n",
        "\n",
        "\n",
        "def similar(ratingData, movie_id, top_n):\n",
        "    index = movie_id - 1 # Movie id starts from 1\n",
        "    movie_row = ratingData[index, :]\n",
        "    magnitude = np.sqrt(np.einsum('ij, ij -> i', ratingData, ratingData)) #Einstein summation |  traditional matrix multiplication and is equivalent to np.matmul(a,b)\n",
        "    similarity = np.dot(movie_row, ratingData.T) / (magnitude[index] * magnitude)\n",
        "    sort_indexes = np.argsort(-similarity) #Perform an indirect sort along the given axis (Last axis)\n",
        "    return sort_indexes[:top_n]\n",
        "\n",
        "\n",
        "k = 50\n",
        "movie_id = 4\n",
        "top_n = 10\n",
        "\n",
        "sliced = V.T[:, :k] # representative data\n",
        "indexes = similar(sliced, movie_id, top_n)\n",
        "\n",
        "print('Recommendations for Movie {0}: \\n'.format(\n",
        "movieData[movieData.movie_id == movie_id].title.values[0]))\n",
        "for id in indexes + 1:\n",
        "    print(movieData[movieData.movie_id == id].title.values[0])"
      ]
    }
  ]
}